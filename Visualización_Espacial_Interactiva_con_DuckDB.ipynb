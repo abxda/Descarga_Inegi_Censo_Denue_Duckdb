{
  "nbformat": 4,
  "nbformat_minor": 0,
  "metadata": {
    "colab": {
      "provenance": [],
      "authorship_tag": "ABX9TyPzZzqZZdjCXuH0MtWOZPAj",
      "include_colab_link": true
    },
    "kernelspec": {
      "name": "python3",
      "display_name": "Python 3"
    },
    "language_info": {
      "name": "python"
    }
  },
  "cells": [
    {
      "cell_type": "markdown",
      "metadata": {
        "id": "view-in-github",
        "colab_type": "text"
      },
      "source": [
        "<a href=\"https://colab.research.google.com/github/abxda/Descarga_Inegi_Censo_Denue_Duckdb/blob/main/Visualizaci%C3%B3n_Espacial_Interactiva_con_DuckDB.ipynb\" target=\"_parent\"><img src=\"https://colab.research.google.com/assets/colab-badge.svg\" alt=\"Open In Colab\"/></a>"
      ]
    },
    {
      "cell_type": "code",
      "execution_count": null,
      "metadata": {
        "id": "lMJTRqzJFEds"
      },
      "outputs": [],
      "source": [
        "import duckdb\n",
        "import folium\n",
        "from folium.plugins import MarkerCluster\n",
        "from IPython.display import display"
      ]
    },
    {
      "cell_type": "code",
      "source": [
        "# Usamos gdown para descargar el archivo .duckdb directamente a nuestro entorno.\n",
        "print(\"\\nPaso 2: Descargando la base de datos censo_denue.duckdb...\")\n",
        "# El ID del archivo de Google Drive\n",
        "file_id = '1qzdEXMlh7Zctz_qxIHZ_eMPRExAlO2fF'\n",
        "# El comando para descargar y renombrar el archivo\n",
        "!gdown --id {file_id} -O censo_denue.duckdb\n",
        "print(\"¡Base de datos descargada!\")"
      ],
      "metadata": {
        "id": "Lzw_lq3gHK14"
      },
      "execution_count": null,
      "outputs": []
    },
    {
      "cell_type": "code",
      "source": [
        "# Nos conectamos a la base de datos local y ejecutamos una consulta SQL.\n",
        "# El objetivo es obtener la ubicación de todas las farmacias en el estado de\n",
        "# Aguascalientes (clave de entidad '01') del DENUE."
      ],
      "metadata": {
        "id": "CzjsfqptFcSF"
      },
      "execution_count": null,
      "outputs": []
    },
    {
      "cell_type": "code",
      "source": [
        "# Conectar a la base de datos DuckDB en modo de solo lectura.\n",
        "con = duckdb.connect(database='censo_denue.duckdb', read_only=True)\n",
        "\n",
        "# Definir la consulta SQL para obtener los datos que necesitamos.\n",
        "# CORRECCIÓN: Se cambió 'nombre_actividad' por 'nombre_act' según el diccionario de datos.\n",
        "query = \"\"\"\n",
        "SELECT\n",
        "    latitud,\n",
        "    longitud,\n",
        "    nom_estab AS nombre_establecimiento\n",
        "FROM denue\n",
        "WHERE\n",
        "    nombre_act LIKE '%Farmacias%' AND cve_ent = '01';\n",
        "\"\"\"\n",
        "\n",
        "# Ejecutar la consulta y cargar los resultados en un DataFrame de Pandas.\n",
        "farmacias_df = con.execute(query).fetch_df()\n",
        "\n",
        "# Es una buena práctica cerrar siempre la conexión a la base de datos.\n",
        "con.close()\n",
        "\n",
        "print(f\"¡Extracción exitosa! Se encontraron {len(farmacias_df)} farmacias.\")\n",
        "print(\"Primeros 5 registros extraídos:\")\n",
        "print(farmacias_df.head())"
      ],
      "metadata": {
        "id": "7ZjAVA8KFqKl"
      },
      "execution_count": null,
      "outputs": []
    },
    {
      "cell_type": "code",
      "source": [
        "# Ahora, usamos Folium para visualizar los puntos. Folium es una capa sobre\n",
        "# Leaflet.js que nos permite crear mapas desde Python.\n",
        "#\n",
        "# 1. Capa Base (Base Map): El \"escenario\". Usaremos OpenStreetMap.\n",
        "# 2. Capa de Datos (Data Layer): Los \"actores\". Serán nuestras farmacias,\n",
        "#    agrupadas en clústeres interactivos para evitar la sobredensidad.\n",
        "\n",
        "if farmacias_df is not None and not farmacias_df.empty:\n",
        "    print(\"\\nPaso 5: Creando el mapa interactivo...\")\n",
        "\n",
        "    # Crear un objeto de mapa centrado en Aguascalientes.\n",
        "    # location=[lat, lon], zoom_start define el acercamiento inicial.\n",
        "    mapa_clusters = folium.Map(location=[21.8853, -102.2916], zoom_start=12, tiles=\"CartoDB positron\")\n",
        "\n",
        "    # Crear una capa de MarkerCluster. Esta capa manejará la lógica de agrupar\n",
        "    # los puntos automáticamente según el nivel de zoom.\n",
        "    marker_cluster = MarkerCluster().add_to(mapa_clusters)\n",
        "\n",
        "    # Iterar sobre cada farmacia en nuestro DataFrame.\n",
        "    for _, row in farmacias_df.iterrows():\n",
        "        # Para cada farmacia, creamos un Marcador (un \"pin\").\n",
        "        # El popup mostrará el nombre del establecimiento al hacer clic.\n",
        "        folium.Marker(\n",
        "            location=[row['latitud'], row['longitud']],\n",
        "            popup=f\"<strong>{row['nombre_establecimiento']}</strong>\"\n",
        "        ).add_to(marker_cluster) # ¡Importante! Añadimos el marcador al CLÚSTER, no al mapa directamente.\n",
        "\n",
        "    print(\"¡Mapa generado! Mostrando el resultado a continuación...\")\n",
        "    # La última línea del código en una celda de Colab que devuelve un objeto\n",
        "    # de Folium (como 'mapa_clusters') lo renderizará automáticamente.\n",
        "    display(mapa_clusters)\n",
        "\n",
        "else:\n",
        "    print(\"\\nNo se pudieron generar los mapas porque no se extrajeron datos.\")"
      ],
      "metadata": {
        "id": "JlMXRAGAF0c7"
      },
      "execution_count": null,
      "outputs": []
    },
    {
      "cell_type": "code",
      "source": [],
      "metadata": {
        "id": "SeUzeQ0JH_OL"
      },
      "execution_count": null,
      "outputs": []
    }
  ]
}